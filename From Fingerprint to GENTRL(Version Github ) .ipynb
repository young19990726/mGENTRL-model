{
 "cells": [
  {
   "cell_type": "code",
   "execution_count": null,
   "id": "fdd1696c",
   "metadata": {},
   "outputs": [],
   "source": [
    "import gentrl\n",
    "import rdkit\n",
    "import torch\n",
    "import pandas as pd\n",
    "\n",
    "from rdkit import Chem\n",
    "from rdkit.Chem import Draw\n",
    "from rdkit.Chem import PandasTools"
   ]
  },
  {
   "cell_type": "markdown",
   "id": "7787fbd3",
   "metadata": {},
   "source": [
    "# Import SDF file"
   ]
  },
  {
   "cell_type": "code",
   "execution_count": null,
   "id": "40687e86",
   "metadata": {},
   "outputs": [],
   "source": [
    "A1 = PandasTools.LoadSDF(\"./SDF_name.sdf\")"
   ]
  },
  {
   "cell_type": "markdown",
   "id": "1ef17716",
   "metadata": {},
   "source": [
    "# Convert to Canonical Smiles and exclude unreasonable Smiles"
   ]
  },
  {
   "cell_type": "code",
   "execution_count": null,
   "id": "25295836",
   "metadata": {},
   "outputs": [],
   "source": [
    "smi = A1['Smiles']\n",
    "\n",
    "my_smi = []\n",
    "for i in smi:\n",
    "    try:\n",
    "        mol = Chem.CanonSmiles(i) \n",
    "        my_smi.append(mol)\n",
    "        \n",
    "    except:\n",
    "        print(\"Invalid SMILES:\", i)\n",
    "\n",
    "df = pd.DataFrame(my_smi, columns = ['Smiles'])\n",
    "df.to_csv('All_Smiles.csv', index = None)"
   ]
  },
  {
   "cell_type": "markdown",
   "id": "979c2aa7",
   "metadata": {},
   "source": [
    "# Create generative tensorial reinforcement learning (GENTRL) models "
   ]
  },
  {
   "cell_type": "code",
   "execution_count": null,
   "id": "fb3a9280",
   "metadata": {},
   "outputs": [],
   "source": [
    "#Default Reward function\n",
    "\n",
    "from moses.metrics import mol_passes_filters, QED, SA, logP\n",
    "from moses.metrics.utils import get_n_rings, get_mol\n",
    "\n",
    "def get_num_rings_6(mol):\n",
    "    r = mol.GetRingInfo()\n",
    "    return len([x for x in r.AtomRings() if len(x) > 6])\n",
    "\n",
    "def penalized_logP(mol_or_smiles, masked = False, default = -5):\n",
    "    mol = get_mol(mol_or_smiles)\n",
    "    if mol is None:\n",
    "        return default\n",
    "    reward = logP(mol) - SA(mol) - get_num_rings_6(mol)\n",
    "    if masked and not mol_passes_filters(mol):\n",
    "        return default\n",
    "    return reward\n",
    "\n",
    "#My Reward function\n",
    "\n",
    "from rdkit.Chem import rdMolDescriptors, Descriptors, Lipinski\n",
    "from moses.metrics import mol_passes_filters\n",
    "\n",
    "def lipinski_pass(smiles, masked = False, default = 0):\n",
    "    mol = Chem.MolFromSmiles(smiles)\n",
    "    if mol is None:\n",
    "        return default\n",
    "        \n",
    "    mol_weight = Descriptors.MolWt(mol)                   #Molecular weight < 500 daltons\n",
    "    num_hdonors = Lipinski.NumHDonors(mol)                #Hydrogen bond donors <= 5\n",
    "    num_hacceptors = Lipinski.NumHAcceptors(mol)          #Hydrogen bond acceptors <= 10\n",
    "    mol_logp = Descriptors.MolLogP(mol)                   #logP < 5\n",
    "    num_rob = rdMolDescriptors.CalcNumRotatableBonds(mol) #rotatable bonds < 10\n",
    "        \n",
    "    if mol_weight >= 500 and num_hdonors > 5 and num_hacceptors > 10 and mol_logp >= 5 and num_rob >= 10:\n",
    "        reward = 0\n",
    "    else:\n",
    "        reward = 1\n",
    "    if masked and not mol_passes_filters(mol):\n",
    "        return default\n",
    "    return reward"
   ]
  },
  {
   "cell_type": "code",
   "execution_count": null,
   "id": "9c6465f5",
   "metadata": {},
   "outputs": [],
   "source": [
    "df['pass'] = df['Smiles'].apply(lipinski_pass)\n",
    "df['plogP'] = df['Smiles'].apply(penalized_logP)\n",
    "df.to_csv('All_Smiles_lipinski_pass.csv', index = None)"
   ]
  },
  {
   "cell_type": "code",
   "execution_count": null,
   "id": "289a1e58",
   "metadata": {},
   "outputs": [],
   "source": [
    "enc = gentrl.RNNEncoder(latent_size = 50)\n",
    "dec = gentrl.DilConvDecoder(latent_input_size = 50)\n",
    "model = gentrl.GENTRL(enc, dec, 50 * [('c', 20)], [('c', 20)], beta = 0.001)\n",
    "model.cuda();"
   ]
  },
  {
   "cell_type": "code",
   "execution_count": null,
   "id": "b8ae98f8",
   "metadata": {},
   "outputs": [],
   "source": [
    "md = gentrl.MolecularDataset(sources = [\n",
    "    {'path': 'All_Smiles_lipinski_pass.csv',\n",
    "     'smiles': 'Smiles',\n",
    "     'prob': 1,\n",
    "     'pass': 'pass',\n",
    "     'plogP': 'plogP',\n",
    "    }], \n",
    "    props=['pass'])\n",
    "\n",
    "from torch.utils.data import DataLoader\n",
    "train_loader = DataLoader(md, batch_size = 50, shuffle = True, num_workers = 1, drop_last = True)"
   ]
  },
  {
   "cell_type": "code",
   "execution_count": null,
   "id": "8a11b93f",
   "metadata": {},
   "outputs": [],
   "source": [
    "model.train_as_vaelp(train_loader, lr = 1e-4)\n",
    "\n",
    "os.mkdir('lipinski_pass_gentrl')\n",
    "model.save('./lipinski_pass_gentrl/')"
   ]
  },
  {
   "cell_type": "markdown",
   "id": "91430564",
   "metadata": {},
   "source": [
    "# Reinforcement learning"
   ]
  },
  {
   "cell_type": "code",
   "execution_count": null,
   "id": "d168faa1",
   "metadata": {},
   "outputs": [],
   "source": [
    "model.load('lipinski_pass_gentrl/')\n",
    "model.cuda();"
   ]
  },
  {
   "cell_type": "code",
   "execution_count": null,
   "id": "ba9277de",
   "metadata": {},
   "outputs": [],
   "source": [
    "model.train_as_rl(lipinski_pass)\n",
    "\n",
    "os.mkdir('lipinski_pass_gentrl_after_rl')\n",
    "model.save('./lipinski_pass_gentrl_after_rl/')"
   ]
  },
  {
   "cell_type": "markdown",
   "id": "db7325c3",
   "metadata": {},
   "source": [
    "# Generate new small molecule compounds"
   ]
  },
  {
   "cell_type": "code",
   "execution_count": null,
   "id": "0c55cfb6",
   "metadata": {},
   "outputs": [],
   "source": [
    "model.load('lipinski_pass_gentrl_after_rl/')\n",
    "model.cuda();"
   ]
  },
  {
   "cell_type": "code",
   "execution_count": null,
   "id": "db053530",
   "metadata": {},
   "outputs": [],
   "source": [
    "generated = []\n",
    "TrueSmiles = []\n",
    "while len(TrueSmiles) < 6000:\n",
    "    sampled = model.sample(1)\n",
    "    sampled_valid = [s for s in sampled if get_mol(s)]\n",
    "    generated += sampled_valid\n",
    "    TrueSmiles = list(set(generated))"
   ]
  },
  {
   "cell_type": "code",
   "execution_count": null,
   "id": "b49eb8b9",
   "metadata": {},
   "outputs": [],
   "source": [
    "f = open('NEW_Smiles.txt', 'w')\n",
    "f.close()\n",
    "\n",
    "for i in TrueSmiles:\n",
    "    print(i, file = open('NEW_Smiles.txt', 'a'))"
   ]
  },
  {
   "cell_type": "markdown",
   "id": "83185db9",
   "metadata": {},
   "source": [
    "# Drawing New Small Molecule Compounds"
   ]
  },
  {
   "cell_type": "code",
   "execution_count": null,
   "id": "cbe9ac6f",
   "metadata": {},
   "outputs": [],
   "source": [
    "mols = []\n",
    "for smi in TrueSmiles:\n",
    "    mol = Chem.MolFromSmiles(smi)\n",
    "    mols.append(mol)\n",
    "    \n",
    "Draw.MolsToGridImage(mols, molsPerRow = 3, subImgSize = (300, 200), maxMols = 100,\n",
    "                     legends = [i for i in TrueSmiles])"
   ]
  }
 ],
 "metadata": {
  "kernelspec": {
   "display_name": "Python [conda env:pytorch] *",
   "language": "python",
   "name": "conda-env-pytorch-py"
  },
  "language_info": {
   "codemirror_mode": {
    "name": "ipython",
    "version": 3
   },
   "file_extension": ".py",
   "mimetype": "text/x-python",
   "name": "python",
   "nbconvert_exporter": "python",
   "pygments_lexer": "ipython3",
   "version": "3.6.5"
  }
 },
 "nbformat": 4,
 "nbformat_minor": 5
}
